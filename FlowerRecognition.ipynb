{
 "cells": [
  {
   "cell_type": "code",
   "execution_count": 76,
   "metadata": {
    "collapsed": true
   },
   "outputs": [],
   "source": [
    "# Imports \n",
    "import numpy as np\n",
    "from glob import glob\n"
   ]
  },
  {
   "cell_type": "code",
   "execution_count": 77,
   "metadata": {
    "collapsed": false
   },
   "outputs": [
    {
     "name": "stdout",
     "output_type": "stream",
     "text": [
      "There are 6552 total flowers train images.\nThere are 818 total flowers valid images.\n"
     ]
    }
   ],
   "source": [
    "# Load data\n",
    "data_dir = 'flower_data'\n",
    "train_dir = data_dir + '/train/*/*'\n",
    "valid_dir = data_dir + '/valid/*/*'\n",
    "\n",
    "# load filenames for flowers images\n",
    "flowers_train = np.array(glob(train_dir))\n",
    "flowers_valid = np.array(glob(valid_dir))\n",
    "\n",
    "# print number of images in each dataset\n",
    "print('There are %d total flowers train images.' % len(flowers_train))\n",
    "print('There are %d total flowers valid images.' % len(flowers_valid))\n"
   ]
  },
  {
   "cell_type": "code",
   "execution_count": null,
   "metadata": {},
   "outputs": [],
   "source": []
  }
 ],
 "metadata": {
  "kernelspec": {
   "display_name": "Python 2",
   "language": "python",
   "name": "python2"
  },
  "language_info": {
   "codemirror_mode": {
    "name": "ipython",
    "version": 2
   },
   "file_extension": ".py",
   "mimetype": "text/x-python",
   "name": "python",
   "nbconvert_exporter": "python",
   "pygments_lexer": "ipython2",
   "version": "2.7.6"
  }
 },
 "nbformat": 4,
 "nbformat_minor": 0
}
